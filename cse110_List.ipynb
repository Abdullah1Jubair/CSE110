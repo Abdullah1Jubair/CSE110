{
  "nbformat": 4,
  "nbformat_minor": 0,
  "metadata": {
    "colab": {
      "provenance": [],
      "authorship_tag": "ABX9TyMteCIrtewFEcFzjUSd72id",
      "include_colab_link": true
    },
    "kernelspec": {
      "name": "python3",
      "display_name": "Python 3"
    },
    "language_info": {
      "name": "python"
    }
  },
  "cells": [
    {
      "cell_type": "markdown",
      "metadata": {
        "id": "view-in-github",
        "colab_type": "text"
      },
      "source": [
        "<a href=\"https://colab.research.google.com/github/Abdullah1Jubair/CSE110/blob/main/cse110_List.ipynb\" target=\"_parent\"><img src=\"https://colab.research.google.com/assets/colab-badge.svg\" alt=\"Open In Colab\"/></a>"
      ]
    },
    {
      "cell_type": "code",
      "execution_count": null,
      "metadata": {
        "colab": {
          "base_uri": "https://localhost:8080/"
        },
        "id": "VkomU4Uk94wS",
        "outputId": "3912d9c7-4bb2-4523-8478-99d5b1f5255b"
      },
      "outputs": [
        {
          "output_type": "stream",
          "name": "stdout",
          "text": [
            "Rolls Royce\n",
            "2.1\n",
            "0\n"
          ]
        }
      ],
      "source": [
        "one = \"Rolls Royce\"\n",
        "two = 2.1\n",
        "three = 000000\n",
        "print(one)\n",
        "print(two)\n",
        "print(three)"
      ]
    },
    {
      "cell_type": "markdown",
      "source": [
        "List code insertion easy kore.\n",
        "jekono type er input nite pare"
      ],
      "metadata": {
        "id": "xcpcFH-V-3eo"
      }
    },
    {
      "cell_type": "code",
      "source": [
        "#heterogenous\n",
        "a_list = [\"Rolls Royce\", 2.1, 000000]\n",
        "print(a_list)"
      ],
      "metadata": {
        "colab": {
          "base_uri": "https://localhost:8080/"
        },
        "id": "juhaUoXz-22-",
        "outputId": "ac55ad90-864c-4234-cc34-1297b019b3b5"
      },
      "execution_count": null,
      "outputs": [
        {
          "output_type": "stream",
          "name": "stdout",
          "text": [
            "['Rolls Royce', 2.1, 0]\n"
          ]
        }
      ]
    },
    {
      "cell_type": "markdown",
      "source": [
        "append diye list e insert kora hoy"
      ],
      "metadata": {
        "id": "t4Lrb2cZAj54"
      }
    },
    {
      "cell_type": "code",
      "source": [
        "#Insertion\n",
        "a_list = []\n",
        "a_list.append(\"besla\")\n",
        "print(a_list)\n",
        "a_list.append(\"2.1 millions\")\n",
        "print(a_list)"
      ],
      "metadata": {
        "colab": {
          "base_uri": "https://localhost:8080/"
        },
        "id": "uj64wcRQAjgm",
        "outputId": "6f64684f-37d8-4cf0-95f2-2704d8915cd9"
      },
      "execution_count": null,
      "outputs": [
        {
          "output_type": "stream",
          "name": "stdout",
          "text": [
            "['besla']\n",
            "['besla', '2.1 millions']\n"
          ]
        }
      ]
    },
    {
      "cell_type": "markdown",
      "source": [
        "list e same jinish bar bar input dewa possible\n"
      ],
      "metadata": {
        "id": "fENk8vYBBd9w"
      }
    },
    {
      "cell_type": "code",
      "source": [
        "# duplicate\n",
        "a_list = [44,44,44,666,88 ,44]\n",
        "print(a_list)\n",
        "a_list.append(44)\n",
        "print(a_list)"
      ],
      "metadata": {
        "colab": {
          "base_uri": "https://localhost:8080/"
        },
        "id": "BpyMB1xxA-_3",
        "outputId": "69955a39-d1a2-4600-cb79-99a804c9343a"
      },
      "execution_count": null,
      "outputs": [
        {
          "output_type": "stream",
          "name": "stdout",
          "text": [
            "[44, 44, 44, 666, 88, 44]\n",
            "[44, 44, 44, 666, 88, 44, 44]\n"
          ]
        }
      ]
    },
    {
      "cell_type": "code",
      "source": [
        "#mutable\n",
        "a_list = [44,\"nani\",\"baka\"]\n",
        "a_list[2] = \"?\"\n",
        "print(a_list)"
      ],
      "metadata": {
        "colab": {
          "base_uri": "https://localhost:8080/"
        },
        "id": "uKb34epbDCsT",
        "outputId": "d59c965b-e10d-491b-f823-412fd71d9358"
      },
      "execution_count": null,
      "outputs": [
        {
          "output_type": "stream",
          "name": "stdout",
          "text": [
            "[44, 'nani', '?']\n"
          ]
        }
      ]
    },
    {
      "cell_type": "markdown",
      "source": [
        "Write a Python program that reads 5 numbers from the user and enters it into a list. Upon entering each number, show the list as output."
      ],
      "metadata": {
        "id": "HHpYDvfRDxz9"
      }
    },
    {
      "cell_type": "code",
      "source": [
        "a_list = []\n",
        "for i in range(5):\n",
        "    n = int(input(\"numebr: \"))\n",
        "    a_list.append(n)\n",
        "    print(a_list)"
      ],
      "metadata": {
        "colab": {
          "base_uri": "https://localhost:8080/"
        },
        "id": "xuNVmTINDw-S",
        "outputId": "10b65c69-dc9a-4194-ec23-c84c0de12699"
      },
      "execution_count": null,
      "outputs": [
        {
          "output_type": "stream",
          "name": "stdout",
          "text": [
            "numebr: 1\n",
            "[1]\n",
            "numebr: 2\n",
            "[1, 2]\n",
            "numebr: 3\n",
            "[1, 2, 3]\n",
            "numebr: 4\n",
            "[1, 2, 3, 4]\n",
            "numebr: 5\n",
            "[1, 2, 3, 4, 5]\n"
          ]
        }
      ]
    },
    {
      "cell_type": "markdown",
      "source": [
        "Write a Python program that reads 5 numbers from the user and enters it into a list. Upon entering each number, show the list as output.without the append function\n"
      ],
      "metadata": {
        "id": "Zo8bAbL2F8g9"
      }
    },
    {
      "cell_type": "code",
      "source": [
        "a_list = []\n",
        "for i in range(5):\n",
        "  n = int(input())\n",
        "  a_list += [n]\n",
        "  # a_list+= a_list\n",
        "  print(a_list)"
      ],
      "metadata": {
        "colab": {
          "base_uri": "https://localhost:8080/"
        },
        "id": "p6lcJtqnF0vS",
        "outputId": "f1e49000-5987-4ca5-bcb7-e14b95e08923"
      },
      "execution_count": null,
      "outputs": [
        {
          "output_type": "stream",
          "name": "stdout",
          "text": [
            "1\n",
            "[1]\n",
            "2\n",
            "[1, 2]\n",
            "3\n",
            "[1, 2, 3]\n",
            "4\n",
            "[1, 2, 3, 4]\n",
            "5\n",
            "[1, 2, 3, 4, 5]\n"
          ]
        }
      ]
    },
    {
      "cell_type": "markdown",
      "source": [
        "Take a list of 5 elements as user input and print the list in reverse order. Slicing can be used handling the given list as input. But to reverse the list you must not use slicing and split( )."
      ],
      "metadata": {
        "id": "4p5Ska3rM5uJ"
      }
    },
    {
      "cell_type": "code",
      "source": [
        "user = [5, -5, 100, 1, 0] #dtype list\n",
        "a_list = []\n",
        "for i in range(len(user)):\n",
        "  # if i==\",\" or \"\":\n",
        "  #   continue\n",
        "  # else:\n",
        "    a_list.append(user[len(user)-1-i])\n",
        "\n",
        "print(a_list)"
      ],
      "metadata": {
        "colab": {
          "base_uri": "https://localhost:8080/"
        },
        "id": "2FUORXxGG5Tx",
        "outputId": "6c4a0ad5-c97d-43e1-bb84-adda4796debc"
      },
      "execution_count": null,
      "outputs": [
        {
          "output_type": "stream",
          "name": "stdout",
          "text": [
            "[0, 1, 100, -5, 5]\n"
          ]
        }
      ]
    },
    {
      "cell_type": "markdown",
      "source": [
        "Take a list of 5 elements as user input and print the list in reverse order. Slicing can be used handling the given list as input. But to reverse the list you must not use slicing and split( )."
      ],
      "metadata": {
        "id": "I4hJyx7TSDQg"
      }
    },
    {
      "cell_type": "code",
      "source": [
        "a_list = []\n",
        "temp = \"\"\n",
        "user = input()# dtype str\n",
        "\n",
        "for i in user:\n",
        "  if i >= \"0\"and i<= \"9\" or i== '-':\n",
        "    temp += i\n",
        "  elif i == \",\":\n",
        "    a_list.append( int(temp))\n",
        "    temp = \"\"\n",
        "a_list.append(int(temp))\n",
        "\n",
        "new_list = []\n",
        "for i in range(len(a_list)):\n",
        "  new_list.append(a_list[len(a_list)-1-i])\n",
        "print(new_list)"
      ],
      "metadata": {
        "colab": {
          "base_uri": "https://localhost:8080/"
        },
        "id": "AQIGyL2YSDFd",
        "outputId": "99c3ae3b-f044-43c3-80a9-54d9945353ef"
      },
      "execution_count": null,
      "outputs": [
        {
          "output_type": "stream",
          "name": "stdout",
          "text": [
            "10, 20, 24, 25, 26, 35, 70\n",
            "[10, 20, 24, 25, 26, 35, 70]\n",
            "[70, 35, 26, 25, 24, 20, 10]\n"
          ]
        }
      ]
    },
    {
      "cell_type": "markdown",
      "source": [
        "Write a Python program that takes an input from the user, then prints a new list excluding the first and last two elements of the given list. In case of not enough elements in the list, print \"Not possible\""
      ],
      "metadata": {
        "id": "3_wCGWsTtvAz"
      }
    },
    {
      "cell_type": "code",
      "source": [
        "a_list = []\n",
        "temp = ''\n",
        "user = input()\n",
        "\n",
        "for i in user:\n",
        "  if i >= \"0\" and i<= \"9\" :\n",
        "    temp += i\n",
        "  elif i == \",\"  :\n",
        "    a_list.append(int(temp))\n",
        "    temp = ''\n",
        "a_list.append(int(temp))\n",
        "\n",
        "empty_list = []\n",
        "if len(a_list)>3:\n",
        "  empty_list = a_list[2:-2]\n",
        "  print(empty_list)\n",
        "else:\n",
        "  print(\"Not possible\")"
      ],
      "metadata": {
        "colab": {
          "base_uri": "https://localhost:8080/"
        },
        "id": "Wcne7kmLWgyg",
        "outputId": "1b1a5b1d-b1bb-4ccb-ab07-b9bd64f696ad"
      },
      "execution_count": null,
      "outputs": [
        {
          "output_type": "stream",
          "name": "stdout",
          "text": [
            "10, 20, 24, 25\n",
            "[]\n"
          ]
        }
      ]
    },
    {
      "cell_type": "markdown",
      "source": [
        "Let’s assume, you have two given lists: List_one and List_two. Write a Python program that prints \"True\", if the given two lists have at least one common member. Otherwise, prints \"False\"."
      ],
      "metadata": {
        "id": "DZA_jKVCz9_r"
      }
    },
    {
      "cell_type": "code",
      "source": [
        "list_one = [1, 4, 3, 2, 5]\n",
        "list_two = [8, 7, 6, 9]\n",
        "\n",
        "flag = False\n",
        "for i in range(len(list_one)):\n",
        "  for j in range(len(list_two)):\n",
        "    if list_one[i] == list_two[j]:\n",
        "      flag = True\n",
        "      break\n",
        "    else:\n",
        "      flag = False\n",
        "print(flag)"
      ],
      "metadata": {
        "colab": {
          "base_uri": "https://localhost:8080/"
        },
        "id": "1wBJn3_Gw5-5",
        "outputId": "52374937-902a-41dd-b694-ec90b7078ba0"
      },
      "execution_count": null,
      "outputs": [
        {
          "output_type": "stream",
          "name": "stdout",
          "text": [
            "False\n"
          ]
        }
      ]
    },
    {
      "cell_type": "markdown",
      "source": [
        "Suppose you have been given two lists. Write a Python program that replaces the last element of the first list with the second list"
      ],
      "metadata": {
        "id": "L2wKycgg5HBb"
      }
    },
    {
      "cell_type": "code",
      "source": [
        "list_one = [1, 4, 7, 5]\n",
        "list_two = [6, 1, 3, 9]\n",
        "last_num = []\n",
        "last_num = list_one.pop(len(list_one)-1)\n",
        "print(list_one+list_two)"
      ],
      "metadata": {
        "colab": {
          "base_uri": "https://localhost:8080/"
        },
        "id": "zXBZsgxd449R",
        "outputId": "21edf5fe-c032-43d9-a099-e2e475f8265d"
      },
      "execution_count": null,
      "outputs": [
        {
          "output_type": "stream",
          "name": "stdout",
          "text": [
            "[1, 4, 7, 6, 1, 3, 9]\n"
          ]
        }
      ]
    },
    {
      "cell_type": "markdown",
      "source": [
        "Suppose you have two given lists. Write a Python program that creates a new list with all the even elements of both of the given lists and prints the new list. Your program should work for any two given lists."
      ],
      "metadata": {
        "id": "Wker8voR8PIT"
      }
    },
    {
      "cell_type": "code",
      "source": [
        "list1 = [1, 2, 3, 4, 5, 6, 7, 8, 9]\n",
        "list2 = [10, 11, 12, -13, -14, -15,-16]\n",
        "new_list = list1 + list2\n",
        "a_list = []\n",
        "for i in range(len(new_list)):\n",
        "  if new_list[i]%2 == 0:\n",
        "    a_list.append(new_list[i])\n",
        "print(a_list)"
      ],
      "metadata": {
        "colab": {
          "base_uri": "https://localhost:8080/"
        },
        "id": "0vrRzKNH8Ot6",
        "outputId": "eb701233-a498-4b57-9a84-674d1de055d9"
      },
      "execution_count": null,
      "outputs": [
        {
          "output_type": "stream",
          "name": "stdout",
          "text": [
            "[2, 4, 6, 8, 10, 12, -14, -16]\n"
          ]
        }
      ]
    },
    {
      "cell_type": "markdown",
      "source": [
        "Design a recursive function called nested_to_linear that takes a nested list from the user, and returns the nested list as a linear one. Please refer to the example below to design your program and check with the sample input below."
      ],
      "metadata": {
        "id": "NLesOwvk9WxC"
      }
    },
    {
      "cell_type": "code",
      "source": [
        "def nested_to_linear(num):\n",
        "  len\n",
        "\n",
        "user = [\"start\", 10, [4, 2, [11, [9, \"mid\", 3, [1, 0], 6]], 8], \"Done\"]\n",
        "nested_to_linear(user)\n",
        "print(nested_to_linear)\n"
      ],
      "metadata": {
        "id": "hViDs7hf9WbB"
      },
      "execution_count": null,
      "outputs": []
    },
    {
      "cell_type": "markdown",
      "source": [
        "Assume you have a class of five students. And as a faculty you need to enter their name and CSE110 GPA in a list called grade_list. This particular grade_list consists of individual lists of the student's name and GPA. Hence, it makes the grade_list a nested list / list of lists."
      ],
      "metadata": {
        "id": "q0ZomNpu9-OH"
      }
    },
    {
      "cell_type": "code",
      "source": [
        "def grade_list():\n",
        "  result=[]\n",
        "  for i in range(5):\n",
        "    n=input(\"Enter list: \")[1:-1]\n",
        "    for j in range(len(n)):\n",
        "      if n[j]==\",\":\n",
        "        part1,part2=(n[:j]),(n[j+1:])\n",
        "        result.append([part1,float(part2)])\n",
        "        print(result)\n",
        "grade_list()"
      ],
      "metadata": {
        "id": "dDatb2_z99Pr"
      },
      "execution_count": null,
      "outputs": []
    }
  ]
}