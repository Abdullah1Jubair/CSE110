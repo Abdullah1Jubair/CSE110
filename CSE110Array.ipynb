{
  "nbformat": 4,
  "nbformat_minor": 0,
  "metadata": {
    "colab": {
      "provenance": [],
      "authorship_tag": "ABX9TyPPQmpgiRMPrPBXPBn90XAF",
      "include_colab_link": true
    },
    "kernelspec": {
      "name": "python3",
      "display_name": "Python 3"
    },
    "language_info": {
      "name": "python"
    }
  },
  "cells": [
    {
      "cell_type": "markdown",
      "metadata": {
        "id": "view-in-github",
        "colab_type": "text"
      },
      "source": [
        "<a href=\"https://colab.research.google.com/github/Abdullah1Jubair/CSE110/blob/main/CSE110Array.ipynb\" target=\"_parent\"><img src=\"https://colab.research.google.com/assets/colab-badge.svg\" alt=\"Open In Colab\"/></a>"
      ]
    },
    {
      "cell_type": "markdown",
      "source": [
        "**1D Array**"
      ],
      "metadata": {
        "id": "eBOklHudv5Ew"
      }
    },
    {
      "cell_type": "code",
      "source": [
        "import numpy as np\n",
        "array = np.array([1,2,3,4,5])\n",
        "print(\"The array is:\", array)\n",
        "print(\"The dimension is:\", array.ndim)\n",
        "print(\"The Shape is:\", array.shape)# shape matra show kore\n",
        "print(\"The size is:\", array.size)# size elements er length show kore"
      ],
      "metadata": {
        "colab": {
          "base_uri": "https://localhost:8080/"
        },
        "id": "RDkr-ODCv6BG",
        "outputId": "e62e28ce-9c0b-4bc5-d822-b9a5b9ee4f12"
      },
      "execution_count": null,
      "outputs": [
        {
          "output_type": "stream",
          "name": "stdout",
          "text": [
            "The array is: [1 2 3 4 5]\n",
            "The dimension is: 1\n",
            "The Shape is: (5,)\n",
            "The size is: 5\n"
          ]
        }
      ]
    },
    {
      "cell_type": "markdown",
      "source": [
        "**2D Array**\n",
        "\n",
        "\n"
      ],
      "metadata": {
        "id": "RxnNwLpfzoq8"
      }
    },
    {
      "cell_type": "code",
      "source": [
        "import numpy as np\n",
        "array = np.array([[1, 2, 3, 4, 5], [6, 7, 8, 9, 10]])\n",
        "print(array)\n",
        "print(\"The dimension is:\", array.ndim)\n",
        "print(\"The shape is:\", array.shape)\n",
        "print(\"The size:\", array.size)"
      ],
      "metadata": {
        "colab": {
          "base_uri": "https://localhost:8080/"
        },
        "id": "WVF_6ChCzpAU",
        "outputId": "9166ada8-c603-47cb-e992-bc51f9196194"
      },
      "execution_count": null,
      "outputs": [
        {
          "output_type": "stream",
          "name": "stdout",
          "text": [
            "[[ 1  2  3  4  5]\n",
            " [ 6  7  8  9 10]]\n",
            "The dimension is: 2\n",
            "The shape is: (2, 5)\n",
            "The size: 10\n"
          ]
        }
      ]
    },
    {
      "cell_type": "code",
      "source": [
        "#Array Traversal\n",
        "import numpy as np\n",
        "array = np.array ([1, 2 , 3, 4, 5])\n",
        "index = 0\n",
        "while index< array.size:\n",
        "  print(array[index],end= \"\")\n",
        "  index = index+1"
      ],
      "metadata": {
        "colab": {
          "base_uri": "https://localhost:8080/"
        },
        "id": "G-i_gC_x2oyZ",
        "outputId": "65c7cbd0-0c68-4ec0-a9b1-ddb87ab3b248"
      },
      "execution_count": null,
      "outputs": [
        {
          "output_type": "stream",
          "name": "stdout",
          "text": [
            "12345"
          ]
        }
      ]
    },
    {
      "cell_type": "markdown",
      "source": [
        "**Array Creation from user**"
      ],
      "metadata": {
        "id": "65StX7c4IH7-"
      }
    },
    {
      "cell_type": "code",
      "source": [
        "length = int(input(\"Please enter your array length: \"))\n",
        "array = np.zeros(length, dtype = int)\n",
        "\n",
        "for i in range(length):\n",
        "  value = int(input(\"Please enter your value: \"))\n",
        "  array[i] = value\n",
        "print(array)"
      ],
      "metadata": {
        "colab": {
          "base_uri": "https://localhost:8080/"
        },
        "id": "grHUT9fa5Vvx",
        "outputId": "2b5546b4-910e-4578-d843-2310754a6778"
      },
      "execution_count": null,
      "outputs": [
        {
          "output_type": "stream",
          "name": "stdout",
          "text": [
            "Please enter your array length: 5\n",
            "Please enter your value: 1\n",
            "Please enter your value: 2\n",
            "Please enter your value: 3\n",
            "Please enter your value: 4\n",
            "Please enter your value: 5\n",
            "[1 2 3 4 5]\n"
          ]
        }
      ]
    },
    {
      "cell_type": "markdown",
      "source": [
        "**ARRAY Sorting**"
      ],
      "metadata": {
        "id": "4X8ljM2oG_wu"
      }
    },
    {
      "cell_type": "code",
      "source": [
        "import numpy as np\n",
        "array = np.array([7, 8, 9, 3, 2, 1])\n",
        "for i in range(len(array)):\n",
        "  for j in range(0,len(array)-i-1):\n",
        "    if array[j]> array[j+1]:\n",
        "      temp = array[j]\n",
        "      array[j] = array[j+1]\n",
        "      array[j+1] = temp\n",
        "print(\"The final array is:\",array)"
      ],
      "metadata": {
        "colab": {
          "base_uri": "https://localhost:8080/"
        },
        "id": "YeMUFLDyG_PR",
        "outputId": "f46ddfa2-23bf-4ad8-b581-d29b7d528114"
      },
      "execution_count": null,
      "outputs": [
        {
          "output_type": "stream",
          "name": "stdout",
          "text": [
            "The final array is: [1 2 3 7 8 9]\n"
          ]
        }
      ]
    },
    {
      "cell_type": "markdown",
      "source": [
        "Take an integer N as an input from the user and create an 1D array with size N by taking each integer element as user input. Then, print the array. Next, take another integer input from the user. Resize the array and add the new integer value in the new array. Lastly, print the new array."
      ],
      "metadata": {
        "id": "jJOOpZfDzENe"
      }
    },
    {
      "cell_type": "code",
      "source": [
        "import numpy as np\n",
        "n = int(input())\n",
        "array = np.zeros(n,dtype = int)\n",
        "for i in range(n):\n",
        "  elements = int(input())\n",
        "  array[i] = elements\n",
        "print(array)\n",
        "new_array = np.zeros(n+1, dtype = int)\n",
        "for j in range(n):\n",
        "  new_array[j] = array[j]\n",
        "new_array[-1]  = int(input())\n",
        "print(new_array)"
      ],
      "metadata": {
        "colab": {
          "base_uri": "https://localhost:8080/"
        },
        "id": "ehBwWqZwWmUo",
        "outputId": "567e284e-7be1-42e8-db93-8a92b95df193"
      },
      "execution_count": null,
      "outputs": [
        {
          "output_type": "stream",
          "name": "stdout",
          "text": [
            "3\n",
            "5\n",
            "8\n",
            "2\n",
            "[5 8 2]\n",
            "4\n",
            "[5 8 2 4]\n"
          ]
        }
      ]
    },
    {
      "cell_type": "markdown",
      "source": [
        "Take an integer N input from the user and create a 1D integer array of N numbers. Then, print the array. Next, modify the array by changing the positive numbers by 1 and the negative numbers by 0. If the element is zero, then it will be unchanged. Lastly, print the modified array."
      ],
      "metadata": {
        "id": "Qi_Zp_jLEWQL"
      }
    },
    {
      "cell_type": "code",
      "source": [
        "n = int(input())\n",
        "import numpy as np\n",
        "array = np.zeros(n, dtype = int)\n",
        "for i in range(n):\n",
        "  elements = int(input())\n",
        "  array[i] = elements\n",
        "print(array)\n",
        "new_array = np.zeros(n,dtype= int)\n",
        "for j in range(len(array)):\n",
        "  if array[j]<0 :\n",
        "    new_array[j] = 0\n",
        "  elif array[j]>0:\n",
        "    new_array[j] = 1\n",
        "  elif array[j] == 0:\n",
        "    new_array[j] = 0\n",
        "print(new_array)"
      ],
      "metadata": {
        "colab": {
          "base_uri": "https://localhost:8080/"
        },
        "id": "ku3juE8VA10H",
        "outputId": "146103b8-46cd-4bff-bd77-5c8b46b7fa9f"
      },
      "execution_count": null,
      "outputs": [
        {
          "output_type": "stream",
          "name": "stdout",
          "text": [
            "4\n",
            "3\n",
            "-2\n",
            "1\n",
            "0\n",
            "[ 3 -2  1  0]\n",
            "[1 0 1 0]\n"
          ]
        }
      ]
    },
    {
      "cell_type": "markdown",
      "source": [
        "Write a Python function named reverseArray that takes a NumPy Array as parameter and using loop modifies & returns the reversed array within the given array. That means inside the function you can not create a new array."
      ],
      "metadata": {
        "id": "hQFSh0_vpvmL"
      }
    },
    {
      "cell_type": "code",
      "source": [
        "\n",
        "import numpy as np\n",
        "def reverseArray(arr1):\n",
        "  a = 0\n",
        "  for i in range(arr1.size//2):\n",
        "    a = arr1[i]\n",
        "    arr1[i] = arr1[(arr1.size-1)-i]\n",
        "    arr1[(arr1.size-1)-i] = a\n",
        "  return arr1\n",
        "arr1 = np.array([10, 12, 20, 5, 7])\n",
        "arr1 = reverseArray(arr1)\n",
        "print(arr1)"
      ],
      "metadata": {
        "colab": {
          "base_uri": "https://localhost:8080/"
        },
        "id": "CXXNnzYKpvL4",
        "outputId": "459f3863-85b7-4429-fc6c-14594622c6db"
      },
      "execution_count": null,
      "outputs": [
        {
          "output_type": "stream",
          "name": "stdout",
          "text": [
            "[ 7  5 20 12 10]\n"
          ]
        }
      ]
    },
    {
      "cell_type": "markdown",
      "source": [
        "Write a Python function named printPairs that takes an array of numbers and a single integer value as parameters and prints the pairs of two array elements inside the function whose sum is equal to that integer value. If no such pair is found, then print \"No Pair Found\"."
      ],
      "metadata": {
        "id": "Ghz9klmXQFKB"
      }
    },
    {
      "cell_type": "code",
      "source": [
        "import numpy as np\n",
        "def printPairs(array,value):\n",
        "  flag = False\n",
        "  for i in range(array.size):\n",
        "    for j in range(i+1,array.size):\n",
        "      if array[i]+ array[j] == value:\n",
        "        flag = True\n",
        "        print(f\"{array[i]},{array[j]}\")\n",
        "  if flag == False:\n",
        "    print(\"No Pair Found\")\n",
        "\n",
        "\n",
        "arr1 = np.array([7,8,10,5,3,4,2])\n",
        "printPairs(arr1, 15)"
      ],
      "metadata": {
        "colab": {
          "base_uri": "https://localhost:8080/"
        },
        "id": "RJvXQ463QEjP",
        "outputId": "64b56c41-9812-47f1-e459-010b7acf86e4"
      },
      "execution_count": null,
      "outputs": [
        {
          "output_type": "stream",
          "name": "stdout",
          "text": [
            "7,8\n",
            "10,5\n"
          ]
        }
      ]
    },
    {
      "cell_type": "markdown",
      "source": [
        "Suppose, you are given two 1D NumPy arrays (vectors). Now, using a loop, find the dot product of these two arrays and print the result. If the result is even, then swap the elements in the even index of the arrays. If the result is odd, then swap the elements in the odd index of the arrays. [You may assume that the size of both the arrays will be the same. Your code should work for 1D arrays of any size. You can not use in-built dot(), sum() or @ to solve this problem.]"
      ],
      "metadata": {
        "id": "HRGaihE4sou3"
      }
    },
    {
      "cell_type": "code",
      "source": [
        "import numpy as np\n",
        "vec1 = np.array([1,2,3,7])\n",
        "vec2 = np.array([4,5,6,9])\n",
        "\n",
        "dot_prod = 0\n",
        "for i in range(vec1.size):\n",
        "  dot_prod = dot_prod + vec1[i]*vec2[i]\n",
        "print(dot_prod)\n",
        "if dot_prod %2 == 0:\n",
        "  for j in range(vec1.size):\n",
        "    if j%2 == 0:\n",
        "      vec1[j],vec2[j] = vec2[j],vec1[j]\n",
        "  print(vec1)\n",
        "  print(vec2)\n",
        "else:\n",
        "  for k in range(vec1.size):\n",
        "    if j%2 ==1 :\n",
        "      vec1[k],vec2[k] = vec2[k],vec1[k]\n",
        "  print(vec1)\n",
        "  print(vec2)\n",
        "\n"
      ],
      "metadata": {
        "colab": {
          "base_uri": "https://localhost:8080/"
        },
        "id": "krnVgLV6spMP",
        "outputId": "1deacdcd-fb93-41de-e982-14253ad57d99"
      },
      "execution_count": null,
      "outputs": [
        {
          "output_type": "stream",
          "name": "stdout",
          "text": [
            "95\n",
            "[1 2 3 7]\n",
            "[4 5 6 9]\n"
          ]
        }
      ]
    },
    {
      "cell_type": "markdown",
      "source": [
        "Take an integer N input from the user and create an 1D array of N numbers taking the elements as user input too. Then, print the array. Next, sort the array in the ascending order using Selection Sort technique. Lastly, print the sorted array."
      ],
      "metadata": {
        "id": "XftiVTYN5pTD"
      }
    },
    {
      "cell_type": "code",
      "source": [
        "import numpy as np\n",
        "n = int(input())\n",
        "array = np.zeros(n, dtype = int)\n",
        "for i in range(array.size):\n",
        "  elements = int(input())\n",
        "  array[i]= elements\n",
        "print(array)\n",
        "for j in range(array.size):\n",
        "  min = array[j]\n",
        "  for k in range(j+1,array.size):\n",
        "    if array[k]<min:\n",
        "      array[j] = array[k]\n",
        "      array[k] = min\n",
        "      min = array[j]\n",
        "\n",
        "print(array)"
      ],
      "metadata": {
        "colab": {
          "base_uri": "https://localhost:8080/"
        },
        "id": "insxLred5onr",
        "outputId": "2ebd8201-ca66-43ba-fae1-bfbcd225f8d6"
      },
      "execution_count": null,
      "outputs": [
        {
          "output_type": "stream",
          "name": "stdout",
          "text": [
            "6\n",
            "3\n",
            "6\n",
            "1\n",
            "2\n",
            "8\n",
            "9\n",
            "[3 6 1 2 8 9]\n",
            "[1 2 3 6 8 9]\n"
          ]
        }
      ]
    },
    {
      "cell_type": "markdown",
      "source": [
        "Write a Python function called flatten that takes a 2D array as parameter and returns an 1D array by flattening the 2D array."
      ],
      "metadata": {
        "id": "nFYslUc3z09I"
      }
    },
    {
      "cell_type": "code",
      "source": [
        "import numpy as np\n",
        "def flatten(array):\n",
        "  row = array.shape[0]\n",
        "  col = array.shape[1]\n",
        "  new_array = np.zeros(array.size, dtype = int)\n",
        "  index = 0\n",
        "\n",
        "  for i in range(row):\n",
        "    for j in range(col):\n",
        "      new_array[index] = array[i][j]\n",
        "      index = index+1\n",
        "  return new_array\n",
        "\n",
        "arr1 = np.array( [ [1, 2, 3],\n",
        "                   [3, 4, 5] ] )\n",
        "arr2 = flatten(arr1)\n",
        "print(arr2)"
      ],
      "metadata": {
        "id": "wlJnKCFkAJte",
        "colab": {
          "base_uri": "https://localhost:8080/"
        },
        "outputId": "d1c650e2-7e18-41fb-a48f-d6d90c68a095"
      },
      "execution_count": null,
      "outputs": [
        {
          "output_type": "stream",
          "name": "stdout",
          "text": [
            "[1 2 3 3 4 5]\n"
          ]
        }
      ]
    },
    {
      "cell_type": "markdown",
      "source": [
        "You are given a square matrix A of size N×N. Check whether the given matrix is an Identity matrix or not. If it is, then print \"Identity matrix\" or otherwise print \"Not an Identity matrix\". Your program should work for any given 2D Arrays of size N×N."
      ],
      "metadata": {
        "id": "ENQ7gL_DPrKN"
      }
    },
    {
      "cell_type": "code",
      "source": [
        "def identity(a):\n",
        "  row = a.shape[0]\n",
        "  flag = True\n",
        "  for i in range(row):\n",
        "    for j in range(row):\n",
        "      if a[i][i] != 1:\n",
        "        flag = False\n",
        "        break\n",
        "      if i != j:\n",
        "        if a[i][j] != 0:\n",
        "          flag = False\n",
        "          break\n",
        "  if flag == True:\n",
        "    print(\"Identity Matrix\")\n",
        "  else:\n",
        "    print(\"Not identity Matrix\")\n",
        "a = np.array([ [1, 0, 0],\n",
        "               [0, 1, 0],\n",
        "               [0, 0, 1] ])\n",
        "identity(a)"
      ],
      "metadata": {
        "colab": {
          "base_uri": "https://localhost:8080/"
        },
        "id": "wDpitPbePrf2",
        "outputId": "0dfb6086-245f-4620-85b0-3b9f85b05f36"
      },
      "execution_count": null,
      "outputs": [
        {
          "output_type": "stream",
          "name": "stdout",
          "text": [
            "Identity Matrix\n"
          ]
        }
      ]
    },
    {
      "cell_type": "markdown",
      "source": [
        "You are given a 2D array A of size N×N. Print the absolute difference between the summation of its two diagonals (primary and secondary diagonal). Your program should work for any given 2D Arrays of size N×N."
      ],
      "metadata": {
        "id": "8pdHB_yZphm3"
      }
    },
    {
      "cell_type": "code",
      "source": [
        "import numpy as np\n",
        "def matrix (a) :\n",
        "  primary = 0\n",
        "  secondary = 0\n",
        "  row = a.shape[0]\n",
        "  for i in range(row):\n",
        "    primary = primary + a[i][i]\n",
        "    secondary = secondary + a[i][row-1-i]\n",
        "    difference = abs(primary - secondary)\n",
        "  print(difference)\n",
        "\n",
        "A = np.array([ [1,  5,  12,  1],\n",
        "                        [2,  -4,  6,  7],\n",
        "                        [3,  8,  5,  9],\n",
        "                        [3,  5,  23,  -6] ])\n",
        "matrix(A)"
      ],
      "metadata": {
        "colab": {
          "base_uri": "https://localhost:8080/"
        },
        "id": "P_muYMmYphHT",
        "outputId": "d433af0c-407f-47e1-e117-3a5af4af2ff0"
      },
      "execution_count": null,
      "outputs": [
        {
          "output_type": "stream",
          "name": "stdout",
          "text": [
            "22\n"
          ]
        }
      ]
    },
    {
      "cell_type": "markdown",
      "source": [
        "Suppose, you are given a matrix of dimension M×N called A. You have to transpose the matrix in a new 2D array. Finally, print the new array. Your program should work for any given 2D Arrays of size M×N."
      ],
      "metadata": {
        "id": "ci9OKi2N0UW2"
      }
    },
    {
      "cell_type": "code",
      "source": [],
      "metadata": {
        "id": "GsujPacN0Tto"
      },
      "execution_count": null,
      "outputs": []
    }
  ]
}