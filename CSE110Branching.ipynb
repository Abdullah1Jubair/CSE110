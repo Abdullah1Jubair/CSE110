{
  "nbformat": 4,
  "nbformat_minor": 0,
  "metadata": {
    "colab": {
      "provenance": [],
      "authorship_tag": "ABX9TyNzfyT+f59VJ902yTKGJl14",
      "include_colab_link": true
    },
    "kernelspec": {
      "name": "python3",
      "display_name": "Python 3"
    },
    "language_info": {
      "name": "python"
    }
  },
  "cells": [
    {
      "cell_type": "markdown",
      "metadata": {
        "id": "view-in-github",
        "colab_type": "text"
      },
      "source": [
        "<a href=\"https://colab.research.google.com/github/Abdullah1Jubair/CSE110/blob/main/CSE110Branching.ipynb\" target=\"_parent\"><img src=\"https://colab.research.google.com/assets/colab-badge.svg\" alt=\"Open In Colab\"/></a>"
      ]
    },
    {
      "cell_type": "markdown",
      "source": [
        "if ==> conditional statement\n",
        "\n",
        "import rule ==> age nam tapor .(dot) tapor jeita import korbo oita"
      ],
      "metadata": {
        "id": "W3Mrzw3cH-uI"
      }
    },
    {
      "cell_type": "code",
      "execution_count": null,
      "metadata": {
        "colab": {
          "base_uri": "https://localhost:8080/"
        },
        "id": "XmO9Gj9kHuPG",
        "outputId": "99990548-30e1-4031-c1a2-06057ae5583a"
      },
      "outputs": [
        {
          "output_type": "stream",
          "name": "stdout",
          "text": [
            "Please enter your radius: 4\n",
            "area is 50.2656\n",
            "circumference is 25.1328\n"
          ]
        }
      ],
      "source": [
        "radius = int(input(\"Please enter your radius: \"))\n",
        "\n",
        "circumference = 2*3.1416*radius\n",
        "area = 3.1416*radius**2\n",
        "\n",
        "print(f\"area is {area}\")\n",
        "\n",
        "print(f\"circumference is {circumference}\")"
      ]
    },
    {
      "cell_type": "markdown",
      "source": [
        "fraction er por 4 digit newar jonno output er ans o 4 digit er ashbe\n",
        "\n",
        "kintu full digit new uchit presicion er jonno\n"
      ],
      "metadata": {
        "id": "HWeLYa77MU96"
      }
    },
    {
      "cell_type": "markdown",
      "source": [
        "dir diye variables er sob dekha jay\n"
      ],
      "metadata": {
        "id": "m9lOIfCWM6R_"
      }
    },
    {
      "cell_type": "code",
      "source": [
        "import math\n",
        "dir(math)"
      ],
      "metadata": {
        "colab": {
          "base_uri": "https://localhost:8080/"
        },
        "id": "oOMSid8MLeuu",
        "outputId": "60e86db2-14f1-4419-c58b-7bf9a74e7941"
      },
      "execution_count": null,
      "outputs": [
        {
          "output_type": "execute_result",
          "data": {
            "text/plain": [
              "['__doc__',\n",
              " '__loader__',\n",
              " '__name__',\n",
              " '__package__',\n",
              " '__spec__',\n",
              " 'acos',\n",
              " 'acosh',\n",
              " 'asin',\n",
              " 'asinh',\n",
              " 'atan',\n",
              " 'atan2',\n",
              " 'atanh',\n",
              " 'ceil',\n",
              " 'comb',\n",
              " 'copysign',\n",
              " 'cos',\n",
              " 'cosh',\n",
              " 'degrees',\n",
              " 'dist',\n",
              " 'e',\n",
              " 'erf',\n",
              " 'erfc',\n",
              " 'exp',\n",
              " 'expm1',\n",
              " 'fabs',\n",
              " 'factorial',\n",
              " 'floor',\n",
              " 'fmod',\n",
              " 'frexp',\n",
              " 'fsum',\n",
              " 'gamma',\n",
              " 'gcd',\n",
              " 'hypot',\n",
              " 'inf',\n",
              " 'isclose',\n",
              " 'isfinite',\n",
              " 'isinf',\n",
              " 'isnan',\n",
              " 'isqrt',\n",
              " 'lcm',\n",
              " 'ldexp',\n",
              " 'lgamma',\n",
              " 'log',\n",
              " 'log10',\n",
              " 'log1p',\n",
              " 'log2',\n",
              " 'modf',\n",
              " 'nan',\n",
              " 'nextafter',\n",
              " 'perm',\n",
              " 'pi',\n",
              " 'pow',\n",
              " 'prod',\n",
              " 'radians',\n",
              " 'remainder',\n",
              " 'sin',\n",
              " 'sinh',\n",
              " 'sqrt',\n",
              " 'tan',\n",
              " 'tanh',\n",
              " 'tau',\n",
              " 'trunc',\n",
              " 'ulp']"
            ]
          },
          "metadata": {},
          "execution_count": 3
        }
      ]
    },
    {
      "cell_type": "code",
      "source": [
        "import math\n",
        "radius = int(input(\"please enter your radisus: \"))\n",
        "\n",
        "circumference = 2 * math.pi * radius\n",
        "area = math.pi * math.pow(radius,2)\n",
        "# math formula in line 4 & 5\n",
        "# math.pow power er kaj kore\n",
        "\n",
        "print (f\"area is {area}\")\n",
        "print (f\"circumference is {circumference}\")"
      ],
      "metadata": {
        "colab": {
          "base_uri": "https://localhost:8080/"
        },
        "id": "Cgo5vaWXNBIw",
        "outputId": "c5d7e85e-4a5d-4198-d605-b3726aaaad03"
      },
      "execution_count": null,
      "outputs": [
        {
          "output_type": "stream",
          "name": "stdout",
          "text": [
            "please enter your radisus: 4\n",
            "area is 50.26548245743669\n",
            "circumference is 25.132741228718345\n"
          ]
        }
      ]
    }
  ]
}