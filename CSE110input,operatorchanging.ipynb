{
  "nbformat": 4,
  "nbformat_minor": 0,
  "metadata": {
    "colab": {
      "provenance": [],
      "authorship_tag": "ABX9TyNXOIUl4Hy01tB6l5xgoVJf",
      "include_colab_link": true
    },
    "kernelspec": {
      "name": "python3",
      "display_name": "Python 3"
    },
    "language_info": {
      "name": "python"
    }
  },
  "cells": [
    {
      "cell_type": "markdown",
      "metadata": {
        "id": "view-in-github",
        "colab_type": "text"
      },
      "source": [
        "<a href=\"https://colab.research.google.com/github/Abdullah1Jubair/CSE110/blob/main/CSE110input%2Coperatorchanging.ipynb\" target=\"_parent\"><img src=\"https://colab.research.google.com/assets/colab-badge.svg\" alt=\"Open In Colab\"/></a>"
      ]
    },
    {
      "cell_type": "code",
      "source": [
        "\n",
        "number = input (\"Please enter a number: \")\n",
        "number = \"45\""
      ],
      "metadata": {
        "colab": {
          "base_uri": "https://localhost:8080/"
        },
        "id": "B53BOVaqb_EB",
        "outputId": "fef1cc68-36d7-416a-ff41-8c10d7c445d3"
      },
      "execution_count": null,
      "outputs": [
        {
          "name": "stdout",
          "output_type": "stream",
          "text": [
            "Please enter a number: 45\n"
          ]
        }
      ]
    },
    {
      "cell_type": "markdown",
      "source": [
        "input => user theke kichu chay\n",
        "         always string type hoy\n",
        "         "
      ],
      "metadata": {
        "id": "i_XmTJO2cMBy"
      }
    },
    {
      "cell_type": "markdown",
      "source": [
        "Thre are 3 types of Print .\n",
        "\n",
        "\n",
        "1.   comma print\n",
        "2.   f str print\n",
        "3. . format print\n",
        "\n",
        "\n",
        "\n",
        "\n",
        "\n",
        "\n",
        "\n"
      ],
      "metadata": {
        "id": "5ETzHhQEdcHQ"
      }
    },
    {
      "cell_type": "markdown",
      "source": [
        "**Comma Print**\n",
        ", dan and bam sentence er majhe space ane"
      ],
      "metadata": {
        "id": "cRkdP3Twfjz7"
      }
    },
    {
      "cell_type": "code",
      "source": [
        "print (\"the number is : \", number )\n",
        "number = 45"
      ],
      "metadata": {
        "colab": {
          "base_uri": "https://localhost:8080/"
        },
        "id": "DC1StLHSdHje",
        "outputId": "cf3d3bc0-8871-48fc-9530-359a3276ba30"
      },
      "execution_count": null,
      "outputs": [
        {
          "output_type": "stream",
          "name": "stdout",
          "text": [
            "the number is :  45\n"
          ]
        }
      ]
    },
    {
      "cell_type": "markdown",
      "source": [
        "**f string print**\n"
      ],
      "metadata": {
        "id": "UoqEtqW5gH2p"
      }
    },
    {
      "cell_type": "code",
      "source": [
        "name = \"Jubair\"\n",
        "age = \"38\"\n",
        "position = \"cse\"\n",
        "print (f\"your name is :{name}, your age is :{age}, your position is :{position}\")"
      ],
      "metadata": {
        "colab": {
          "base_uri": "https://localhost:8080/"
        },
        "id": "dFSWWiJxgGgp",
        "outputId": "b4e6c244-02de-464c-9567-943ac73d51cb"
      },
      "execution_count": null,
      "outputs": [
        {
          "output_type": "stream",
          "name": "stdout",
          "text": [
            "your name is :Jubair, your age is :38, your position is :cse\n"
          ]
        }
      ]
    },
    {
      "cell_type": "markdown",
      "source": [
        ".Format print"
      ],
      "metadata": {
        "id": "Fsi5tRNvjJRh"
      }
    },
    {
      "cell_type": "code",
      "source": [
        "name = \"Jubair\"\n",
        "age = \"38\"\n",
        "position = \"cse\"\n",
        "print (\"your name is : {}, Your age is : {}, Your postion is :{} \".format (name,age,position))"
      ],
      "metadata": {
        "colab": {
          "base_uri": "https://localhost:8080/"
        },
        "id": "4f3R56BVjIbB",
        "outputId": "0ec3556b-8507-4457-95b9-67baaa91cc0a"
      },
      "execution_count": null,
      "outputs": [
        {
          "output_type": "stream",
          "name": "stdout",
          "text": [
            "your name is : Jubair, Your age is : 38, Your postion is :cse \n"
          ]
        }
      ]
    },
    {
      "cell_type": "markdown",
      "source": [
        "**Converting String to Integer**"
      ],
      "metadata": {
        "id": "NOhG-wJvmZas"
      }
    },
    {
      "cell_type": "code",
      "source": [
        "Money = \"14444444444444444444444\"\n",
        "convert = int(Money)\n",
        "print (type(convert))"
      ],
      "metadata": {
        "colab": {
          "base_uri": "https://localhost:8080/"
        },
        "id": "6ipqHITZmOmq",
        "outputId": "b4458d10-ba73-4688-a40a-9f4c4ec8db1c"
      },
      "execution_count": null,
      "outputs": [
        {
          "output_type": "stream",
          "name": "stdout",
          "text": [
            "<class 'int'>\n"
          ]
        }
      ]
    },
    {
      "cell_type": "code",
      "source": [
        "name = input (\"Please enter your name :\")\n",
        "age = int(input(\"please enter your age :\"))\n",
        "position = input (\"please enter your position : \")"
      ],
      "metadata": {
        "colab": {
          "base_uri": "https://localhost:8080/"
        },
        "id": "IQvoYz_Nnaoe",
        "outputId": "0d6b3c56-cb54-4262-834c-7c8d35ac335e"
      },
      "execution_count": null,
      "outputs": [
        {
          "name": "stdout",
          "output_type": "stream",
          "text": [
            "Please enter your name :Jubair\n",
            "please enter your age :19\n",
            "please enter your position : CSE\n"
          ]
        }
      ]
    },
    {
      "cell_type": "code",
      "source": [],
      "metadata": {
        "id": "ezYRj0vHHhVY"
      },
      "execution_count": null,
      "outputs": []
    }
  ]
}