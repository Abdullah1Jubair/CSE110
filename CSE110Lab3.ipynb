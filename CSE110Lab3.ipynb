{
  "nbformat": 4,
  "nbformat_minor": 0,
  "metadata": {
    "colab": {
      "provenance": [],
      "authorship_tag": "ABX9TyOvcG3nj2Z3Z0DWkZFkShfG",
      "include_colab_link": true
    },
    "kernelspec": {
      "name": "python3",
      "display_name": "Python 3"
    },
    "language_info": {
      "name": "python"
    }
  },
  "cells": [
    {
      "cell_type": "markdown",
      "metadata": {
        "id": "view-in-github",
        "colab_type": "text"
      },
      "source": [
        "<a href=\"https://colab.research.google.com/github/Abdullah1Jubair/CSE110/blob/main/CSE110Lab3.ipynb\" target=\"_parent\"><img src=\"https://colab.research.google.com/assets/colab-badge.svg\" alt=\"Open In Colab\"/></a>"
      ]
    },
    {
      "cell_type": "code",
      "execution_count": null,
      "metadata": {
        "colab": {
          "base_uri": "https://localhost:8080/"
        },
        "id": "14ehOVxSpH_I",
        "outputId": "d55029d5-42af-4d5a-90f5-de90fb065c39"
      },
      "outputs": [
        {
          "output_type": "stream",
          "name": "stdout",
          "text": [
            "24, 18, 12, 6, 0, -6"
          ]
        }
      ],
      "source": [
        "#task1 a\n",
        "for number in range (24,-7,-6):\n",
        "  if number == -6:\n",
        "      print(number,end= \"\")\n",
        "  else:\n",
        "      print(number,end = \", \")\n"
      ]
    },
    {
      "cell_type": "code",
      "source": [
        "#task1 b\n",
        "count = 18\n",
        "while count <= 64:\n",
        "  if count == 63:\n",
        "      print(count,end =\"\")\n",
        "  else:\n",
        "    print(count,end= \", \")\n",
        "  count = count + 9"
      ],
      "metadata": {
        "colab": {
          "base_uri": "https://localhost:8080/"
        },
        "id": "ekbqOUVXxryw",
        "outputId": "2c52f49d-dfa3-48c0-d63b-d7c1160751d9"
      },
      "execution_count": null,
      "outputs": [
        {
          "output_type": "stream",
          "name": "stdout",
          "text": [
            "18, 27, 36, 45, 54, 63"
          ]
        }
      ]
    },
    {
      "cell_type": "code",
      "source": [
        "#task2\n",
        "n = int(input(\"Please enter your limit: \"))\n",
        "count = 1\n",
        "y = 0\n",
        "while count <= n:\n",
        "  if count%2 == 0:\n",
        "      y = y-(count**2)\n",
        "  else:\n",
        "      y = y+(count**2)\n",
        "  count = count+1\n",
        "print(y)"
      ],
      "metadata": {
        "colab": {
          "base_uri": "https://localhost:8080/"
        },
        "id": "N4_XiJuppmPw",
        "outputId": "c35b339c-84cb-4f1e-af33-cf94594cae67"
      },
      "execution_count": null,
      "outputs": [
        {
          "output_type": "stream",
          "name": "stdout",
          "text": [
            "Please enter your limit: 5\n",
            "15\n"
          ]
        }
      ]
    },
    {
      "cell_type": "code",
      "source": [
        "#task3\n",
        "user = int(input(\"please enter your 5 digits: \"))\n",
        "bag = user\n",
        "while user>0:\n",
        "  digit = user%10\n",
        "  if digit == bag // 10000:\n",
        "      print(digit,end = \"\")\n",
        "  else:\n",
        "      print(digit,end = \", \")\n",
        "  user = user//10\n",
        "\n"
      ],
      "metadata": {
        "colab": {
          "base_uri": "https://localhost:8080/"
        },
        "id": "5b7gCz-Ts7S8",
        "outputId": "3dc1e0df-a07f-4c41-d873-e9d30f143f49"
      },
      "execution_count": null,
      "outputs": [
        {
          "output_type": "stream",
          "name": "stdout",
          "text": [
            "please enter your digit: 32768\n",
            "8,6,7,2,3"
          ]
        }
      ]
    },
    {
      "cell_type": "code",
      "source": [
        "#task4\n",
        "user = int(input(\"please enter your digits: \"))\n",
        "divisor = 1\n",
        "counter = 0\n",
        "while divisor <= user:\n",
        "  if user%divisor == 0:\n",
        "      counter = counter + 1\n",
        "      print(divisor)\n",
        "  divisor = divisor + 1\n",
        "print(f\"Total {counter} divisors\")"
      ],
      "metadata": {
        "colab": {
          "base_uri": "https://localhost:8080/"
        },
        "id": "HcHsEHEh2lJd",
        "outputId": "6bffab4e-e350-4004-ae69-8f480496582a"
      },
      "execution_count": null,
      "outputs": [
        {
          "output_type": "stream",
          "name": "stdout",
          "text": [
            "please enter your digits: 121\n",
            "1\n",
            "11\n",
            "121\n",
            "Total 3 divisors\n"
          ]
        }
      ]
    },
    {
      "cell_type": "code",
      "source": [
        "#task 5 star lab\n",
        "M = int(input(\"Please enter your line number: \"))\n",
        "N = int(input(\"Please enter your column number: \"))\n",
        "row_tracker = 0\n",
        "col_tracker = 1\n",
        "while row_tracker<M:\n",
        "  col_tracker=1\n",
        "  row_tracker = row_tracker+1\n",
        "  while col_tracker<=N:\n",
        "    print(col_tracker,end=\"\")\n",
        "    col_tracker=col_tracker+1\n",
        "  print()"
      ],
      "metadata": {
        "colab": {
          "base_uri": "https://localhost:8080/"
        },
        "id": "a9FYM9VS6k2x",
        "outputId": "6ceeabbb-3c57-4216-ed3e-cf9b44beb875"
      },
      "execution_count": null,
      "outputs": [
        {
          "output_type": "stream",
          "name": "stdout",
          "text": [
            "Please enter your line number: 4\n",
            "Please enter your column number: 6\n",
            "123456\n",
            "123456\n",
            "123456\n",
            "123456\n"
          ]
        }
      ]
    },
    {
      "cell_type": "code",
      "source": [
        "for num in range(18,64,9):\n",
        "  if(num ==63):\n",
        "      print(\"-\" + str(num), end= \"\")\n",
        "  elif (num%2 ==1):\n",
        "      print(\"-\" + str(num), end= \"\")\n",
        "  else:\n",
        "      print(num,end=\", \")"
      ],
      "metadata": {
        "colab": {
          "base_uri": "https://localhost:8080/"
        },
        "id": "2fsGGpdNLbNG",
        "outputId": "837b3197-ac43-4d04-d6ea-8235f0857fbd"
      },
      "execution_count": null,
      "outputs": [
        {
          "output_type": "stream",
          "name": "stdout",
          "text": [
            "18, -2736, -4554, -63"
          ]
        }
      ]
    },
    {
      "cell_type": "code",
      "source": [
        "#EVALUATION2\n",
        "m =1\n",
        "z = 1\n",
        "while m<= 5:\n",
        "  N = int(input(\"Please enter your number: \"))\n",
        "  z = z*N\n",
        "  print(z)\n",
        "  m = m+1"
      ],
      "metadata": {
        "colab": {
          "base_uri": "https://localhost:8080/"
        },
        "id": "oA1pmg-cMsCC",
        "outputId": "09af6996-c8a8-4c07-a071-68d32bc777b5"
      },
      "execution_count": null,
      "outputs": [
        {
          "output_type": "stream",
          "name": "stdout",
          "text": [
            "Please enter your number: -10\n",
            "-10\n",
            "Please enter your number: -2\n",
            "20\n",
            "Please enter your number: 3\n",
            "60\n",
            "Please enter your number: 2\n",
            "120\n",
            "Please enter your number: -1\n",
            "-120\n"
          ]
        }
      ]
    }
  ]
}