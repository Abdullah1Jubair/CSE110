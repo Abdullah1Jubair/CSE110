{
  "nbformat": 4,
  "nbformat_minor": 0,
  "metadata": {
    "colab": {
      "provenance": [],
      "authorship_tag": "ABX9TyNos/N9iozIj+ogNnSw4QZ1",
      "include_colab_link": true
    },
    "kernelspec": {
      "name": "python3",
      "display_name": "Python 3"
    },
    "language_info": {
      "name": "python"
    }
  },
  "cells": [
    {
      "cell_type": "markdown",
      "metadata": {
        "id": "view-in-github",
        "colab_type": "text"
      },
      "source": [
        "<a href=\"https://colab.research.google.com/github/Abdullah1Jubair/CSE110/blob/main/CSE110Lab3.ipynb\" target=\"_parent\"><img src=\"https://colab.research.google.com/assets/colab-badge.svg\" alt=\"Open In Colab\"/></a>"
      ]
    },
    {
      "cell_type": "code",
      "source": [
        "for num in range(18,64,9):\n",
        "  if(num ==63):\n",
        "      print(\"-\" + str(num), end= \"\")\n",
        "  elif (num % 2 == 1):\n",
        "      print(\"-\" + str(num), end= \", \")\n",
        "  else:\n",
        "      print(num,end=\", \")"
      ],
      "metadata": {
        "colab": {
          "base_uri": "https://localhost:8080/"
        },
        "id": "2fsGGpdNLbNG",
        "outputId": "61bd948b-c4fb-4e56-ea6e-b833602b1c7f"
      },
      "execution_count": 78,
      "outputs": [
        {
          "output_type": "stream",
          "name": "stdout",
          "text": [
            "18, -27, 36, -45, 54, -63"
          ]
        }
      ]
    },
    {
      "cell_type": "code",
      "source": [
        "#Class evaluation task 1\n"
      ],
      "metadata": {
        "id": "I6Hawnm_Nkxh"
      },
      "execution_count": null,
      "outputs": []
    },
    {
      "cell_type": "code",
      "source": [
        "#EVALUATION2\n",
        "m =1\n",
        "z = 1\n",
        "while m<= 5:\n",
        "  N = int(input(\"Please enter your number: \"))\n",
        "  z = z*N\n",
        "  print(z)\n",
        "  m = m+1"
      ],
      "metadata": {
        "colab": {
          "base_uri": "https://localhost:8080/"
        },
        "id": "oA1pmg-cMsCC",
        "outputId": "09af6996-c8a8-4c07-a071-68d32bc777b5"
      },
      "execution_count": null,
      "outputs": [
        {
          "output_type": "stream",
          "name": "stdout",
          "text": [
            "Please enter your number: -10\n",
            "-10\n",
            "Please enter your number: -2\n",
            "20\n",
            "Please enter your number: 3\n",
            "60\n",
            "Please enter your number: 2\n",
            "120\n",
            "Please enter your number: -1\n",
            "-120\n"
          ]
        }
      ]
    },
    {
      "cell_type": "code",
      "source": [
        "#TASK 1 a\n",
        "for number in range(24,-7,-6):\n",
        "    if number == -6:\n",
        "        print(number,end=\"\")\n",
        "    else:\n",
        "        print(number,end=\", \")"
      ],
      "metadata": {
        "colab": {
          "base_uri": "https://localhost:8080/"
        },
        "id": "Xr06rz4UnwYS",
        "outputId": "3471194a-a6e2-44a4-bcf4-f40124ce2479"
      },
      "execution_count": 1,
      "outputs": [
        {
          "output_type": "stream",
          "name": "stdout",
          "text": [
            "24, 18, 12, 6, 0, -6"
          ]
        }
      ]
    },
    {
      "cell_type": "code",
      "source": [
        "#Task 1 b\n",
        "start = 18\n",
        "while start<= 64:\n",
        "    if start == 63:\n",
        "        print(start,end =\"\")\n",
        "    else:\n",
        "        print(start,end =\",\")\n",
        "    start = start + 9\n"
      ],
      "metadata": {
        "colab": {
          "base_uri": "https://localhost:8080/"
        },
        "id": "AuBZX1Rsoo07",
        "outputId": "236774f8-ef1c-4f9f-fa92-da7971503caa"
      },
      "execution_count": 3,
      "outputs": [
        {
          "output_type": "stream",
          "name": "stdout",
          "text": [
            "18,27,36,45,54,63"
          ]
        }
      ]
    },
    {
      "cell_type": "code",
      "source": [
        "#Task 2 while loop\n",
        "n = int(input(\"Please enter value: \"))\n",
        "y = 0\n",
        "start = 1\n",
        "while start<= n:\n",
        "    if start%2 == 0:\n",
        "        y = y - (start**2)\n",
        "    else:\n",
        "        y = y + (start**2)\n",
        "    start = start + 1\n",
        "print(y)"
      ],
      "metadata": {
        "colab": {
          "base_uri": "https://localhost:8080/"
        },
        "id": "BPzomLVgphKj",
        "outputId": "e5749dce-a6d9-4d24-96eb-49775d77f303"
      },
      "execution_count": 11,
      "outputs": [
        {
          "output_type": "stream",
          "name": "stdout",
          "text": [
            "Please enter value: 10\n",
            "-55\n"
          ]
        }
      ]
    },
    {
      "cell_type": "code",
      "source": [
        "#Task 2 for loop\n",
        "n = int(input(\"Please enter value: \"))\n",
        "y = 0\n",
        "\n",
        "for i in range(1,n+1):\n",
        "    if i%2 == 0:\n",
        "        y = y - (i**2)\n",
        "    else:\n",
        "        y = y + (i**2)\n",
        "print(y)"
      ],
      "metadata": {
        "colab": {
          "base_uri": "https://localhost:8080/"
        },
        "id": "RXVR_MB8sucs",
        "outputId": "e4c570a5-5b47-4a02-a8f5-bcbff4d5714d"
      },
      "execution_count": 17,
      "outputs": [
        {
          "output_type": "stream",
          "name": "stdout",
          "text": [
            "Please enter value: 5\n",
            "15\n"
          ]
        }
      ]
    },
    {
      "cell_type": "code",
      "source": [
        "#TASK 3\n",
        "number = int(input(\"Please enter your 5 numbers: \"))\n",
        "bag = number\n",
        "while number>0:\n",
        "    digit = number%10\n",
        "    if digit == bag // 10000:\n",
        "        print(digit,end=\"\")\n",
        "    else:\n",
        "        print(digit,end=\", \")\n",
        "    number = number//10\n",
        ""
      ],
      "metadata": {
        "colab": {
          "base_uri": "https://localhost:8080/"
        },
        "id": "Q-1ZDKUQx-aT",
        "outputId": "d759ec23-93b3-43a2-e3f1-0b3dc2b0c947"
      },
      "execution_count": 33,
      "outputs": [
        {
          "output_type": "stream",
          "name": "stdout",
          "text": [
            "Please enter your 5 numbers: 32768\n",
            "8, 6, 7, 2, 3"
          ]
        }
      ]
    },
    {
      "cell_type": "code",
      "source": [
        "#Task 4 in while loop\n",
        "number = int(input(\"Please enter you number: \"))\n",
        "divisor = 1\n",
        "counter = 0\n",
        "while divisor <= number:\n",
        "   if number % divisor == 0:\n",
        "      counter = counter +1\n",
        "      print(divisor)\n",
        "   divisor = divisor + 1\n",
        "print(f\"Total {counter} divisors\")"
      ],
      "metadata": {
        "colab": {
          "base_uri": "https://localhost:8080/"
        },
        "id": "Gj3UoILaDm2c",
        "outputId": "dc812ca2-b350-4825-a3ad-ae6eebc026e7"
      },
      "execution_count": 37,
      "outputs": [
        {
          "output_type": "stream",
          "name": "stdout",
          "text": [
            "Please enter you number: 121\n",
            "1\n",
            "11\n",
            "121\n",
            "Total 3 divisors\n"
          ]
        }
      ]
    },
    {
      "cell_type": "code",
      "source": [
        "#task 4 in for loop\n",
        "number = int(input(\"Please enter you number: \"))\n",
        "counter = 0\n",
        "for divisor in range(1,number+1):\n",
        "    if number % divisor == 0:\n",
        "        counter = counter + 1\n",
        "        print(divisor)\n",
        "print(f\"Total {counter} divisors\")"
      ],
      "metadata": {
        "colab": {
          "base_uri": "https://localhost:8080/"
        },
        "id": "WPR-a5lSHC9N",
        "outputId": "c339d24c-a452-457d-cffe-77a5700685ed"
      },
      "execution_count": 42,
      "outputs": [
        {
          "output_type": "stream",
          "name": "stdout",
          "text": [
            "Please enter you number: 6\n",
            "1\n",
            "2\n",
            "3\n",
            "6\n",
            "Total 4 divisors\n"
          ]
        }
      ]
    },
    {
      "cell_type": "code",
      "source": [
        "#Task 5 in while loop star lab\n",
        "M = int(input(\"Please enter your Row numbers: \"))\n",
        "N = int(input(\"Please enter your Column numbers: \"))\n",
        "row = 0\n",
        "column = 1\n",
        "while row < M:\n",
        "    row = row + 1\n",
        "    column = 1\n",
        "    while column <= N:\n",
        "        print(column, end = \"\")\n",
        "        column = column + 1\n",
        "    print()\n",
        ""
      ],
      "metadata": {
        "colab": {
          "base_uri": "https://localhost:8080/"
        },
        "id": "dAbPcnVqJ_jC",
        "outputId": "5c5db3af-67cb-443e-de6b-5dfb777f2e2d"
      },
      "execution_count": 46,
      "outputs": [
        {
          "output_type": "stream",
          "name": "stdout",
          "text": [
            "Please enter your Row numbers: 4\n",
            "Please enter your Column numbers: 6\n",
            "123456\n",
            "123456\n",
            "123456\n",
            "123456\n"
          ]
        }
      ]
    },
    {
      "cell_type": "code",
      "source": [
        "#Task 5 in for loop star lab\n",
        "M = int(input(\"Please enter your Row numbers: \"))\n",
        "N = int(input(\"Please enter your Column numbers: \"))\n",
        "\n",
        "for row in range(1,M+1):\n",
        "  for column in range(1,N+1):\n",
        "    print(column,end = \"\")\n",
        "  print()"
      ],
      "metadata": {
        "colab": {
          "base_uri": "https://localhost:8080/"
        },
        "id": "GTFfZ8wENmG4",
        "outputId": "0f5aea59-cfd1-4c81-b262-224e412b135d"
      },
      "execution_count": 71,
      "outputs": [
        {
          "output_type": "stream",
          "name": "stdout",
          "text": [
            "Please enter your Row numbers: 4\n",
            "Please enter your Column numbers: 6\n",
            "123456\n",
            "123456\n",
            "123456\n",
            "123456\n"
          ]
        }
      ]
    },
    {
      "cell_type": "code",
      "source": [],
      "metadata": {
        "id": "9U-CoHfRSu3m"
      },
      "execution_count": null,
      "outputs": []
    }
  ]
}