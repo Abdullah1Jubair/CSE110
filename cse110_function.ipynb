{
  "nbformat": 4,
  "nbformat_minor": 0,
  "metadata": {
    "colab": {
      "provenance": [],
      "authorship_tag": "ABX9TyOcJO4b3voRSGzgXTCTJfLd",
      "include_colab_link": true
    },
    "kernelspec": {
      "name": "python3",
      "display_name": "Python 3"
    },
    "language_info": {
      "name": "python"
    }
  },
  "cells": [
    {
      "cell_type": "markdown",
      "metadata": {
        "id": "view-in-github",
        "colab_type": "text"
      },
      "source": [
        "<a href=\"https://colab.research.google.com/github/Abdullah1Jubair/CSE110/blob/main/cse110_function.ipynb\" target=\"_parent\"><img src=\"https://colab.research.google.com/assets/colab-badge.svg\" alt=\"Open In Colab\"/></a>"
      ]
    },
    {
      "cell_type": "markdown",
      "source": [
        "naming function(parameter)\n",
        "\n",
        "\n",
        "calling function(argument)\n"
      ],
      "metadata": {
        "id": "H9eBbt6GZXE-"
      }
    },
    {
      "cell_type": "code",
      "execution_count": null,
      "metadata": {
        "id": "OdSDW7wpXFrJ",
        "colab": {
          "base_uri": "https://localhost:8080/"
        },
        "outputId": "5307f1ce-9dc2-451f-e2bb-00713d6daa11"
      },
      "outputs": [
        {
          "output_type": "stream",
          "name": "stdout",
          "text": [
            "the sum is 1665\n",
            "Theprodis 665334\n",
            "-333\n"
          ]
        }
      ],
      "source": [
        "def function(a,b):\n",
        "  sum = a + b\n",
        "  product = a*b\n",
        "  substraction = a-b\n",
        "  print(\"the sum is\",sum)\n",
        "  print(\"Theprodis\",product)\n",
        "  print(substraction)\n",
        "\n",
        "function(666,999)"
      ]
    },
    {
      "cell_type": "markdown",
      "source": [
        "Write a function which counts uppercase and lower case of a given string"
      ],
      "metadata": {
        "id": "BMr20dpZtisv"
      }
    },
    {
      "cell_type": "code",
      "source": [
        "def function_name(string):\n",
        "  count1 = 0\n",
        "  count2 = 0\n",
        "  for i in string:\n",
        "    if ord(i) >= 65 and ord(i) <= 90:\n",
        "      count1 += 1\n",
        "\n",
        "    elif ord(i) >= 97 and ord(i) <= 127:\n",
        "      count2+= 1\n",
        "\n",
        "  print(count1)\n",
        "  print(count2)\n",
        "\n",
        "function_name(\"The quick Sand MAN\")"
      ],
      "metadata": {
        "colab": {
          "base_uri": "https://localhost:8080/"
        },
        "id": "l0LwJd40pWjY",
        "outputId": "59436601-d5d6-4f3f-980e-09d1b223c1e0"
      },
      "execution_count": null,
      "outputs": [
        {
          "output_type": "stream",
          "name": "stdout",
          "text": [
            "5\n",
            "10\n"
          ]
        }
      ]
    },
    {
      "cell_type": "markdown",
      "source": [
        "Write a function called even_checker that takes a number as its argument and prints whether the number is even or odd inside the function.\n"
      ],
      "metadata": {
        "id": "buacFH6WtsV8"
      }
    },
    {
      "cell_type": "code",
      "source": [
        "def even_checker(num):\n",
        "  if num%2 == 0 :\n",
        "    print(\"Even\")\n",
        "  else:\n",
        "    print(\"ODD\")\n",
        "even_checker(10)"
      ],
      "metadata": {
        "colab": {
          "base_uri": "https://localhost:8080/"
        },
        "id": "jIjIyyJXtreh",
        "outputId": "423605a0-bce4-429a-d06d-4b1debdc8bf4"
      },
      "execution_count": null,
      "outputs": [
        {
          "output_type": "stream",
          "name": "stdout",
          "text": [
            "Even\n"
          ]
        }
      ]
    },
    {
      "cell_type": "markdown",
      "source": [
        "Write a function called sequence() that takes an integer in its parameter called n. Now, if n is positive then it prints all the even numbers from 0 to n, otherwise if n is negative it prints all the odd numbers from n to -1.\n"
      ],
      "metadata": {
        "id": "XZNLmlVp1kj3"
      }
    },
    {
      "cell_type": "code",
      "source": [
        "def is_pos(num1):\n",
        "  if num1>0:\n",
        "    return  True\n",
        "  else:\n",
        "    return False\n",
        "\n",
        "def is_even(num1):\n",
        "  if num1%2 == 0:\n",
        "    return  True\n",
        "  else:\n",
        "    return False\n",
        "\n",
        "def sequence(num):\n",
        "  if is_pos(num) == True:\n",
        "    for i in range(0,num+1):\n",
        "      if is_even(i) == True:\n",
        "        print(i,end=\" \")\n",
        "\n",
        "  else :\n",
        "    for i in range(num,0,1):\n",
        "      if is_even(i) == False:\n",
        "        print(i,end=\" \")\n",
        "\n",
        "sequence(10)"
      ],
      "metadata": {
        "colab": {
          "base_uri": "https://localhost:8080/"
        },
        "id": "FQy0MYP11c6K",
        "outputId": "0af36a85-4516-46a8-b78e-a1816d503c1f"
      },
      "execution_count": null,
      "outputs": [
        {
          "output_type": "stream",
          "name": "stdout",
          "text": [
            "0 2 4 6 8 10 "
          ]
        }
      ]
    },
    {
      "cell_type": "markdown",
      "source": [
        "Write a function called tri_area that takes 3 sides of a triangle as 3 arguments. The function should calculate and print the area of the triangle only if it's a valid triangle otherwise print that it's not a valid triangle."
      ],
      "metadata": {
        "id": "X2-q6GyV6365"
      }
    },
    {
      "cell_type": "code",
      "source": [
        "def is_valid_triangle(num1,num2,num3):\n",
        "  if num1+num3>num2 and num2+num1>num3 and num3+num2>num1:\n",
        "    return True\n",
        "  else:\n",
        "    return False\n",
        "\n",
        "def tri_area(num1,num2,num3):\n",
        "  import math as m\n",
        "  area = 0\n",
        "  if is_valid_triangle(num1,num2,num3) == True:\n",
        "    s = (num1+num2+num3)//2\n",
        "    area = m.sqrt(s*(s-num1)*(s-num2)*(s-num3))\n",
        "    print(\"%.3f\"%area)\n",
        "  else:\n",
        "    print(\"Not Valid Triangle\")\n",
        "tri_area(7,5,10)"
      ],
      "metadata": {
        "colab": {
          "base_uri": "https://localhost:8080/"
        },
        "id": "Q7-7fsEy63Qp",
        "outputId": "9af90d7d-dcbe-4f0b-8c9b-ec236fd3d198"
      },
      "execution_count": null,
      "outputs": [
        {
          "output_type": "stream",
          "name": "stdout",
          "text": [
            "16.248\n"
          ]
        }
      ]
    },
    {
      "cell_type": "markdown",
      "source": [
        "Write a function called fitting that takes three integer values as arguments. First two arguments are the two diameters and the third argument is the dimension. If it is 3 dimensional then you must calculate the volume of the spheres otherwise calculate the area of the circles. Finally, find out and print which circle/sphere can fit inside which one? Also, print how much space would be left if the smaller circle/sphere is put inside the larger one?"
      ],
      "metadata": {
        "id": "XQl_LKMY_Dlf"
      }
    },
    {
      "cell_type": "code",
      "source": [
        "def sphere(r):\n",
        "  import math\n",
        "  volume = (4/3)*math.pi*(r**3)\n",
        "  return float(\"%.4f\"% volume)\n",
        "\n",
        "def circle(r):\n",
        "  import math\n",
        "  area = math.pi*(r**2)\n",
        "  return float(\"%.4f\"% area)\n",
        "\n",
        "\n",
        "def fitting(dia1,dia2,dimen):\n",
        "  if dimen == 3:\n",
        "    volume1 = sphere(float(\"%.2f\"%dia1))\n",
        "    volume2 = sphere(float(\"%.2f\"%dia2))\n",
        "    if volume1>volume2:\n",
        "      diff = volume1 - volume2\n",
        "      print(f\"Sphere-2 can fit inside Sphere-1 and {diff} cubic units would be left\")\n",
        "    else:\n",
        "       diff = volume2 - volume1\n",
        "       print(f\"Sphere-1 can fit inside Sphere-2 and {diff} cubic units would be left\")\n",
        "  elif dimen ==2:\n",
        "    area1 = circle(float(\"%.2f\"%dia1))\n",
        "    area2 = circle(float(\"%.2f\"%dia2))\n",
        "    if area1>area2:\n",
        "      diff = (area1 - area2)\n",
        "      print(f\"Circle-2 can fit inside Circle-2 and {diff} square units would be left\")\n",
        "    else:\n",
        "      diff = area2- area1\n",
        "      print(f\"Circle-1 can fit inside Circle-2 and {diff} square units would be left\")\n",
        "fitting(8,10,2)"
      ],
      "metadata": {
        "colab": {
          "base_uri": "https://localhost:8080/"
        },
        "id": "irCJ0izs_DIB",
        "outputId": "53769a97-a06f-42a8-e36f-c4cb8d93240e"
      },
      "execution_count": null,
      "outputs": [
        {
          "output_type": "stream",
          "name": "stdout",
          "text": [
            "Circle-1 can fit inside Circle-2 and 113.09739999999996 square units would be left\n"
          ]
        }
      ]
    },
    {
      "cell_type": "markdown",
      "source": [],
      "metadata": {
        "id": "Bf4Eyb0rRntG"
      }
    },
    {
      "cell_type": "code",
      "source": [
        "print(\"Starting.....3\")\n",
        "c=99\n",
        "def F3(a):\n",
        "    print(\"F3 begun\")\n",
        "    print(a+c)\n",
        "    print(\"F3 ending\")\n",
        "    return a*5\n",
        "print(\"Starting...2\")\n",
        "def F1():\n",
        "    print(\"F1 begun\")\n",
        "    F2(5)\n",
        "    print(\"F1 ended\")\n",
        "print(\"Starting..1\")\n",
        "def F2(c):\n",
        "    print(\"F2 begun\")\n",
        "    print( F3(c)+30 )\n",
        "    print(\"F2 ended\")\n",
        "print(F1())\n",
        "print(\"All Done\")\n",
        "\n"
      ],
      "metadata": {
        "id": "NO96sTWqRmwo"
      },
      "execution_count": null,
      "outputs": []
    },
    {
      "cell_type": "code",
      "source": [
        "def one_call(n):\n",
        "  print(\"In One call\")\n",
        "  if n%3 ==  0 :\n",
        "    return n+7\n",
        "    print(\"One Call done\")\n",
        "  return n-9\n",
        "  return 12\n",
        "def two_call(a,b=20,c=\"Sayounara\"):\n",
        "  a+= b//2+6\n",
        "  if type(c)== str:\n",
        "    b = c[b]+c[len(c)-b]\n",
        "  else:\n",
        "    b= (b+c)%3\n",
        "  result = one_call(a)\n",
        "  print(result)\n",
        "  if type(b) == str:\n",
        "    return b,c\n",
        "\n",
        "x,y = two_call(11,3)\n",
        "t = two_call(3,8,12)\n",
        "print(t)\n",
        "print(x,y)"
      ],
      "metadata": {
        "colab": {
          "base_uri": "https://localhost:8080/"
        },
        "id": "w6Nb7VrIimJW",
        "outputId": "7366bc9a-7153-4b75-b784-01af1859878e"
      },
      "execution_count": null,
      "outputs": [
        {
          "output_type": "stream",
          "name": "stdout",
          "text": [
            "In One call\n",
            "25\n",
            "In One call\n",
            "4\n",
            "None\n",
            "oa Sayounara\n"
          ]
        }
      ]
    },
    {
      "cell_type": "markdown",
      "source": [
        "Write a function called one_to_N that prints 1 till N recursively.\n",
        "Hint: N is a number taken as input from the user and you need to print the numbers starting from 1 to N recursively."
      ],
      "metadata": {
        "id": "q5Glrb5tw1FJ"
      }
    },
    {
      "cell_type": "code",
      "source": [
        "def one_to_n(n,m):\n",
        "  if n ==m:\n",
        "    print(n, end=\" \")\n",
        "  else:\n",
        "    print(n,end =\" \")\n",
        "    one_to_n(n+1,m)\n",
        "n = int(input())\n",
        "one_to_n(1,n)"
      ],
      "metadata": {
        "colab": {
          "base_uri": "https://localhost:8080/"
        },
        "id": "76gmoFi-ww9U",
        "outputId": "6c65839b-8624-469e-b20f-c7ba110c5802"
      },
      "execution_count": null,
      "outputs": [
        {
          "output_type": "stream",
          "name": "stdout",
          "text": [
            "5\n",
            "1 2 3 4 5 "
          ]
        }
      ]
    },
    {
      "cell_type": "markdown",
      "source": [
        "Write a function reverse_printing from N to 1 recursively\n",
        "Hint: N is a number taken as input from the user and you need to print the numbers starting from N to 1.\n"
      ],
      "metadata": {
        "id": "cVD6kNmzzV0h"
      }
    },
    {
      "cell_type": "code",
      "source": [
        "def reverse_printing(n,m):\n",
        "  if m== n:\n",
        "    print(m, end=\" \")\n",
        "  else:\n",
        "    print(m,end=\" \")\n",
        "    reverse_printing(n,m-1)\n",
        "n = int(input())\n",
        "reverse_printing(1,n)"
      ],
      "metadata": {
        "colab": {
          "base_uri": "https://localhost:8080/"
        },
        "id": "7HeaOh80zVkA",
        "outputId": "a9a08b91-34e5-4ddd-d97b-2db55627a003"
      },
      "execution_count": null,
      "outputs": [
        {
          "output_type": "stream",
          "name": "stdout",
          "text": [
            "6\n",
            "6 5 4 3 2 1 "
          ]
        }
      ]
    },
    {
      "cell_type": "markdown",
      "source": [
        "Write a function summation to sum till N recursively\n",
        "Hint: N is a number taken as input from the user and you need to add the numbers starting from 1 to N recursively and print the sum."
      ],
      "metadata": {
        "id": "EHqt54G229c6"
      }
    },
    {
      "cell_type": "code",
      "source": [
        "def recursive_summation(n,m):\n",
        "  if n == m:\n",
        "    return n\n",
        "  else:\n",
        "    return n+ recursive_summation(n+1,m)\n",
        "\n",
        "n= int(input())\n",
        "recursive_summation(1,n)"
      ],
      "metadata": {
        "colab": {
          "base_uri": "https://localhost:8080/"
        },
        "id": "sY8tr38R29ED",
        "outputId": "48947c50-a0b6-4b5d-fc92-9e19211aa5cd"
      },
      "execution_count": null,
      "outputs": [
        {
          "name": "stdout",
          "output_type": "stream",
          "text": [
            "4\n"
          ]
        },
        {
          "output_type": "execute_result",
          "data": {
            "text/plain": [
              "10"
            ]
          },
          "metadata": {},
          "execution_count": 67
        }
      ]
    }
  ]
}